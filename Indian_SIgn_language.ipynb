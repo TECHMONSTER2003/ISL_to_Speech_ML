{
  "cells": [
    {
      "cell_type": "markdown",
      "source": [],
      "metadata": {
        "id": "W4Ohu5vzPsC-"
      }
    },
    {
      "cell_type": "code",
      "source": [
        "#!sudo apt install espeak\n",
        "#!pip install pyttsx3\n",
        "!unzip /content/drive/MyDrive/desk/archive.zip "
      ],
      "metadata": {
        "id": "3HQAMJko7LGY"
      },
      "execution_count": null,
      "outputs": []
    },
    {
      "cell_type": "code",
      "execution_count": 7,
      "metadata": {
        "id": "wnwapdVro_9x"
      },
      "outputs": [],
      "source": [
        "import os\n",
        "import cv2\n",
        "import pyttsx3\n",
        "import tensorflow_hub as hub\n",
        "import numpy as np\n",
        "from tensorflow import one_hot\n",
        "from sklearn.model_selection import train_test_split\n",
        "from tensorflow.keras.layers import Dense, Activation, Conv2D, Flatten, MaxPooling2D\n",
        "from tensorflow.keras import Sequential\n",
        "from matplotlib import pyplot as plt\n",
        "from keras.models import load_model\n"
      ]
    },
    {
      "cell_type": "code",
      "execution_count": 16,
      "metadata": {
        "id": "c17QqZ3BohGC"
      },
      "outputs": [],
      "source": [
        "folder = \"/content/original_images\"\n",
        "nsp = 400\n",
        "img_size = (100,100)\n",
        "classes = os.listdir(folder)"
      ]
    },
    {
      "cell_type": "code",
      "execution_count": 17,
      "metadata": {
        "id": "4VnYbd39o2BH",
        "colab": {
          "base_uri": "https://localhost:8080/"
        },
        "outputId": "c3cf1cec-01bf-43ef-9246-7b711a4d9a86"
      },
      "outputs": [
        {
          "output_type": "stream",
          "name": "stdout",
          "text": [
            "................................................................................................................................................................................................................................................................................................................................................................................................................................................................................................................................................................................................................................................................................................................................................................................................................................................................................................................................................................................................................................................................................................................................................................................................................................................................................................................................................................................................................................................................................................................................................................................................................................................................................................................................................................................................................................................................................................................................................................................................................................................................................................................................................................................................................................................................................................................................................................................................................................................................................................................................................................................................................................................................................................................................................................................................................................................................................................................................................................................................................................................................................................................................................................................................................................................................................................................................................................................................................................................................................................................................................................................................................................................................................................................................................................................................................................................................................................................................................................................................................................................................................................................................................................................................................................................................................................................................................................................................................................................................................................................................................................................................................................................................................................................................................................................................................................................................................................................................................................................................................................................................................................................................................................................................................................................................................................................................................................................................................................................................................................................................................................................................................................................................................................................................................................................................................................................................................................................................................................................................................................................................................................................................................................................................................................................................................................................................................................................................................................................................................................................................................................................................................................................................................................................................................................................................................................................................................................................................................................................................................................................................................................................................................................................................................................................................................................................................................................................................................................................................................................................................................................................................................................................................................................................................................................................................................................................................................................................................................................................................................................................................................................................................................................................................................................................................................................................................................................................................................................................................................................................................................................................................................................................................................................................................................................................................................................................................................................................................................................................................................................................................................................................................................................................................................................................................................................................................................................................................................................................................................................................................................................................................................................................................................................................................................................................................................................................................................................................................................................................................................................................................................................................................................................................................................................................................................................................................................................................................................................................................................................................................................................................................................................................................................................................................................................................................................................................................................................................................................................................................................................................................................................................................................................................................................................................................................................................................................................................................................................................................................................................................................................................................................................................................................................................................................................................................................................................................................................................................................................................................................................................................................................................................................................................................................................................................................................................................................................................................................................................................................................................................................................................................................................................................................................................................................................................................................................................................................................................................................................................................................................................................................................................................................................................................................................................................................................................................................................................................................................................................................................................................................................................................................................................................................................................................................................................................................................................................................................................................................................................................................................................................................................................................................................................................................................................................................................................................................................................................................................................................................................................................................................................................................................................................................................................................................................................................................................................................................................................................................................................................"
          ]
        }
      ],
      "source": [
        "#creating the dataset for training\n",
        "def make_set(classes, size):\n",
        "  arr = []\n",
        "  size = (size, size)\n",
        "  for i in classes:\n",
        "    fpath = os.path.join(folder, i)\n",
        "    img_names = os.listdir(fpath)\n",
        "    for img_name in img_names[:nsp]:\n",
        "      try:\n",
        "        full_path = os.path.join(fpath, img_name)\n",
        "        img_data = cv2.imread(full_path,cv2.IMREAD_GRAYSCALE)\n",
        "        img_resied = cv2.resize(img_data, size)\n",
        "        arr.append([img_resied, classes.index(i)])\n",
        "        print(\".\", end = '')\n",
        "      except:\n",
        "        pass\n",
        "  return arr\n",
        "\n",
        "dset = make_set(classes,100)\n"
      ]
    },
    {
      "cell_type": "code",
      "source": [
        "#data set editing\n",
        "def spli(data, img_size, onehot = 0):\n",
        "  x = []\n",
        "  y = []\n",
        "  for i in data:\n",
        "    x.append(i[0])\n",
        "    y.append(i[1])\n",
        "  x = np.array(x)\n",
        "  x = x/255.0\n",
        "  x = x.reshape(-1,img_size,img_size,1)\n",
        "  if onehot:\n",
        "    y = one_hot(y, len(classes))\n",
        "\n",
        "  return x,y"
      ],
      "metadata": {
        "id": "KDCJFEojr2ee"
      },
      "execution_count": 19,
      "outputs": []
    },
    {
      "cell_type": "code",
      "source": [
        "#splitting test and training data\n",
        "x,y = spli(dset, img_size = 100, onehot = 0)\n",
        "X_train, X_test, y_train, y_test = train_test_split(x, y, test_size=0.33, random_state=42)\n",
        "y_test = one_hot(y_test, len(classes))\n",
        "y_train = one_hot(y_train, len(classes))"
      ],
      "metadata": {
        "id": "BcuIMjTcsjS7"
      },
      "execution_count": 20,
      "outputs": []
    },
    {
      "cell_type": "code",
      "source": [
        "model = Sequential()\n",
        "model.add(Conv2D(64, (3,3), input_shape = x.shape[1:]))\n",
        "model.add(MaxPooling2D(3,3))\n",
        "model.add(Activation(\"relu\"))\n",
        "\n",
        "model.add(Conv2D(64, (3,3)))\n",
        "model.add(MaxPooling2D(3,3))\n",
        "model.add(Activation(\"relu\"))\n",
        "\n",
        "model.add(Conv2D(64, (3,3)))\n",
        "model.add(MaxPooling2D(3,3))\n",
        "model.add(Activation(\"relu\"))\n",
        "\n",
        "model.add(Flatten())\n",
        "model.add(Dense(len(classes)))\n",
        "model.add(Activation(\"sigmoid\"))\n",
        "\n",
        "model.compile(loss = \"categorical_crossentropy\", metrics = [\"accuracy\"], optimizer=\"adam\")\n",
        "training = model.fit(X_train, y_train, epochs = 15)\n",
        "model.save(\"modelfile.h5\")"
      ],
      "metadata": {
        "id": "GD8QmZSL0RQb",
        "colab": {
          "base_uri": "https://localhost:8080/"
        },
        "outputId": "d8257f30-a2d2-4239-eea4-a20ea80eb4ec"
      },
      "execution_count": 21,
      "outputs": [
        {
          "output_type": "stream",
          "name": "stdout",
          "text": [
            "Epoch 1/15\n",
            "302/302 [==============================] - 124s 408ms/step - loss: 3.1405 - accuracy: 0.1405\n",
            "Epoch 2/15\n",
            "302/302 [==============================] - 126s 416ms/step - loss: 1.0485 - accuracy: 0.6970\n",
            "Epoch 3/15\n",
            "302/302 [==============================] - 123s 406ms/step - loss: 0.4575 - accuracy: 0.8671\n",
            "Epoch 4/15\n",
            "302/302 [==============================] - 127s 419ms/step - loss: 0.2639 - accuracy: 0.9228\n",
            "Epoch 5/15\n",
            "302/302 [==============================] - 122s 405ms/step - loss: 0.1698 - accuracy: 0.9484\n",
            "Epoch 6/15\n",
            "302/302 [==============================] - 124s 410ms/step - loss: 0.1280 - accuracy: 0.9627\n",
            "Epoch 7/15\n",
            "302/302 [==============================] - 121s 401ms/step - loss: 0.0940 - accuracy: 0.9708\n",
            "Epoch 8/15\n",
            "302/302 [==============================] - 123s 408ms/step - loss: 0.0531 - accuracy: 0.9838\n",
            "Epoch 9/15\n",
            "302/302 [==============================] - 121s 401ms/step - loss: 0.0505 - accuracy: 0.9862\n",
            "Epoch 10/15\n",
            "302/302 [==============================] - 123s 408ms/step - loss: 0.0467 - accuracy: 0.9863\n",
            "Epoch 11/15\n",
            "302/302 [==============================] - 121s 401ms/step - loss: 0.0564 - accuracy: 0.9826\n",
            "Epoch 12/15\n",
            "302/302 [==============================] - 124s 410ms/step - loss: 0.0285 - accuracy: 0.9920\n",
            "Epoch 13/15\n",
            "302/302 [==============================] - 121s 402ms/step - loss: 0.0382 - accuracy: 0.9896\n",
            "Epoch 14/15\n",
            "302/302 [==============================] - 123s 408ms/step - loss: 0.0572 - accuracy: 0.9810\n",
            "Epoch 15/15\n",
            "302/302 [==============================] - 121s 402ms/step - loss: 0.0373 - accuracy: 0.9876\n"
          ]
        }
      ]
    },
    {
      "cell_type": "code",
      "source": [
        "#evaluating the model\n",
        "model.evaluate(X_test, y_test)\n",
        "#plotting the accuracy and loss\n",
        "plt.plot(training.history['accuracy'], label = 'accuracy')\n",
        "plt.plot(training.history['loss'], label = 'loss')\n",
        "plt.legend()\n",
        "plt.show()"
      ],
      "metadata": {
        "id": "XZw9U1TjwRro",
        "colab": {
          "base_uri": "https://localhost:8080/",
          "height": 282
        },
        "outputId": "d22f0ecc-ba53-4fc4-b492-9366ee5d0d6d"
      },
      "execution_count": 22,
      "outputs": [
        {
          "output_type": "stream",
          "name": "stdout",
          "text": [
            "149/149 [==============================] - 16s 103ms/step - loss: 0.1331 - accuracy: 0.9691\n"
          ]
        },
        {
          "output_type": "display_data",
          "data": {
            "text/plain": [
              "<Figure size 432x288 with 1 Axes>"
            ],
            "image/png": "[encoded data removed]"
          },
          "metadata": {
            "needs_background": "light"
          }
        }
      ]
    },
    {
      "cell_type": "code",
      "source": [
        "#prediction\n",
        "def classi(test_path):\n",
        "  model = load_model(\"/content/modelfile.h5\")\n",
        "  cand = cv2.imread(test_path,cv2.IMREAD_GRAYSCALE)\n",
        "  candrs = cv2.resize(cand, (100,100))\n",
        "  candrshp = candrs.reshape(-1, 100, 100, 1)\n",
        "  res = model.predict(candrshp)\n",
        "  engine = pyttsx3.init()\n",
        "  engine.say(classes[np.argmax(res)])\n",
        "  print(classes[np.argmax(res)])\n",
        "  engine.runAndWait()\n",
        "\n",
        "classi(\"/content/original_images/9/100.jpg\")\n"
      ],
      "metadata": {
        "colab": {
          "base_uri": "https://localhost:8080/"
        },
        "id": "gz4NwsVq3mpz",
        "outputId": "81cace74-606e-4dd5-dbdc-df8cf10e6028"
      },
      "execution_count": 39,
      "outputs": [
        {
          "output_type": "stream",
          "name": "stdout",
          "text": [
            "1/1 [==============================] - 0s 82ms/step\n",
            "9\n"
          ]
        }
      ]
    }
  ],
  "metadata": {
    "colab": {
      "provenance": [],
      "collapsed_sections": []
    },
    "kernelspec": {
      "display_name": "Python 3",
      "name": "python3"
    },
    "language_info": {
      "name": "python"
    }
  },
  "nbformat": 4,
  "nbformat_minor": 0
}